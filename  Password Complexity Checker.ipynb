{
  "nbformat": 4,
  "nbformat_minor": 0,
  "metadata": {
    "colab": {
      "provenance": [],
      "authorship_tag": "ABX9TyMlqxAk2BCh4EUkb3UaDFVm",
      "include_colab_link": true
    },
    "kernelspec": {
      "name": "python3",
      "display_name": "Python 3"
    },
    "language_info": {
      "name": "python"
    }
  },
  "cells": [
    {
      "cell_type": "markdown",
      "metadata": {
        "id": "view-in-github",
        "colab_type": "text"
      },
      "source": [
        "<a href=\"https://colab.research.google.com/github/NALLAANILKUMAR/EliteTech_CS_03/blob/main/%20Password%20Complexity%20Checker.ipynb\" target=\"_parent\"><img src=\"https://colab.research.google.com/assets/colab-badge.svg\" alt=\"Open In Colab\"/></a>"
      ]
    },
    {
      "cell_type": "code",
      "execution_count": 1,
      "metadata": {
        "colab": {
          "base_uri": "https://localhost:8080/"
        },
        "id": "AvCzu5ru42_t",
        "outputId": "2b79abdb-4586-4fd0-f454-becde158b165"
      },
      "outputs": [
        {
          "output_type": "stream",
          "name": "stdout",
          "text": [
            "Enter a password to check: dfg2gdf@#gdvg\n",
            "Password Strength: Strong\n",
            "- Password should include at least one uppercase letter.\n"
          ]
        }
      ],
      "source": [
        "import re\n",
        "\n",
        "def check_password_strength(password):\n",
        "    # Criteria checks\n",
        "    length = len(password) >= 8\n",
        "    upper = re.search(r'[A-Z]', password) is not None\n",
        "    lower = re.search(r'[a-z]', password) is not None\n",
        "    digit = re.search(r'[0-9]', password) is not None\n",
        "    special = re.search(r'[!@#$%^&*(),.?\":{}|<>]', password) is not None\n",
        "\n",
        "    # Count the number of criteria met\n",
        "    criteria_met = sum([length, upper, lower, digit, special])\n",
        "\n",
        "    # Determine strength based on the number of criteria met\n",
        "    if criteria_met == 5:\n",
        "        strength = \"Very Strong\"\n",
        "    elif criteria_met == 4:\n",
        "        strength = \"Strong\"\n",
        "    elif criteria_met == 3:\n",
        "        strength = \"Moderate\"\n",
        "    elif criteria_met == 2:\n",
        "        strength = \"Weak\"\n",
        "    else:\n",
        "        strength = \"Very Weak\"\n",
        "\n",
        "    # Provide feedback\n",
        "    feedback = []\n",
        "    if not length:\n",
        "        feedback.append(\"Password should be at least 8 characters long.\")\n",
        "    if not upper:\n",
        "        feedback.append(\"Password should include at least one uppercase letter.\")\n",
        "    if not lower:\n",
        "        feedback.append(\"Password should include at least one lowercase letter.\")\n",
        "    if not digit:\n",
        "        feedback.append(\"Password should include at least one digit.\")\n",
        "    if not special:\n",
        "        feedback.append(\"Password should include at least one special character.\")\n",
        "\n",
        "    return strength, feedback\n",
        "\n",
        "# Example usage\n",
        "password = input(\"Enter a password to check: \")\n",
        "strength, feedback = check_password_strength(password)\n",
        "print(f\"Password Strength: {strength}\")\n",
        "for comment in feedback:\n",
        "    print(f\"- {comment}\")\n"
      ]
    }
  ]
}